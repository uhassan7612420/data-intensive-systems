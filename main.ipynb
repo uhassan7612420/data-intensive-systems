{
 "cells": [
  {
   "attachments": {},
   "cell_type": "markdown",
   "metadata": {},
   "source": [
    "# Importing the relavant modules"
   ]
  },
  {
   "cell_type": "code",
   "execution_count": 2,
   "metadata": {},
   "outputs": [],
   "source": [
    "import itertools\n",
    "import pandas as pd\n",
    "\n",
    "from sklearn import (\n",
    "    model_selection, linear_model, metrics, feature_selection, pipeline, base, neighbors, naive_bayes, tree\n",
    ")"
   ]
  },
  {
   "attachments": {},
   "cell_type": "markdown",
   "metadata": {},
   "source": [
    "# Score prediction"
   ]
  },
  {
   "attachments": {},
   "cell_type": "markdown",
   "metadata": {},
   "source": [
    "## loading data"
   ]
  },
  {
   "cell_type": "code",
   "execution_count": 3,
   "metadata": {},
   "outputs": [
    {
     "data": {
      "text/html": [
       "<div>\n",
       "<style scoped>\n",
       "    .dataframe tbody tr th:only-of-type {\n",
       "        vertical-align: middle;\n",
       "    }\n",
       "\n",
       "    .dataframe tbody tr th {\n",
       "        vertical-align: top;\n",
       "    }\n",
       "\n",
       "    .dataframe thead th {\n",
       "        text-align: right;\n",
       "    }\n",
       "</style>\n",
       "<table border=\"1\" class=\"dataframe\">\n",
       "  <thead>\n",
       "    <tr style=\"text-align: right;\">\n",
       "      <th></th>\n",
       "      <th>AimoScore</th>\n",
       "      <th>No_1_Angle_Deviation</th>\n",
       "      <th>No_2_Angle_Deviation</th>\n",
       "      <th>No_3_Angle_Deviation</th>\n",
       "      <th>No_4_Angle_Deviation</th>\n",
       "      <th>No_5_Angle_Deviation</th>\n",
       "      <th>No_6_Angle_Deviation</th>\n",
       "      <th>No_7_Angle_Deviation</th>\n",
       "      <th>No_8_Angle_Deviation</th>\n",
       "      <th>No_9_Angle_Deviation</th>\n",
       "      <th>...</th>\n",
       "      <th>No_19_NASM_Deviation</th>\n",
       "      <th>No_20_NASM_Deviation</th>\n",
       "      <th>No_21_NASM_Deviation</th>\n",
       "      <th>No_22_NASM_Deviation</th>\n",
       "      <th>No_23_NASM_Deviation</th>\n",
       "      <th>No_24_NASM_Deviation</th>\n",
       "      <th>No_25_NASM_Deviation</th>\n",
       "      <th>No_1_Time_Deviation</th>\n",
       "      <th>No_2_Time_Deviation</th>\n",
       "      <th>EstimatedScore</th>\n",
       "    </tr>\n",
       "  </thead>\n",
       "  <tbody>\n",
       "    <tr>\n",
       "      <th>0</th>\n",
       "      <td>0.323667</td>\n",
       "      <td>0.538020</td>\n",
       "      <td>0.815878</td>\n",
       "      <td>0.346724</td>\n",
       "      <td>0.382114</td>\n",
       "      <td>0.302248</td>\n",
       "      <td>0.947872</td>\n",
       "      <td>0.275945</td>\n",
       "      <td>0.521760</td>\n",
       "      <td>0.457198</td>\n",
       "      <td>...</td>\n",
       "      <td>0.833094</td>\n",
       "      <td>0.656624</td>\n",
       "      <td>0.642276</td>\n",
       "      <td>0.552846</td>\n",
       "      <td>0.648972</td>\n",
       "      <td>0.578192</td>\n",
       "      <td>0.560019</td>\n",
       "      <td>0.821616</td>\n",
       "      <td>0.818747</td>\n",
       "      <td>0.209947</td>\n",
       "    </tr>\n",
       "    <tr>\n",
       "      <th>1</th>\n",
       "      <td>0.323699</td>\n",
       "      <td>0.443807</td>\n",
       "      <td>0.306552</td>\n",
       "      <td>0.823529</td>\n",
       "      <td>0.188905</td>\n",
       "      <td>0.497370</td>\n",
       "      <td>0.140124</td>\n",
       "      <td>0.664275</td>\n",
       "      <td>0.521760</td>\n",
       "      <td>0.729316</td>\n",
       "      <td>...</td>\n",
       "      <td>0.670971</td>\n",
       "      <td>0.721186</td>\n",
       "      <td>0.826399</td>\n",
       "      <td>0.805356</td>\n",
       "      <td>0.848876</td>\n",
       "      <td>0.889048</td>\n",
       "      <td>0.816834</td>\n",
       "      <td>0.307987</td>\n",
       "      <td>0.248207</td>\n",
       "      <td>0.457198</td>\n",
       "    </tr>\n",
       "    <tr>\n",
       "      <th>2</th>\n",
       "      <td>0.848327</td>\n",
       "      <td>0.603539</td>\n",
       "      <td>0.373984</td>\n",
       "      <td>0.346724</td>\n",
       "      <td>0.590626</td>\n",
       "      <td>0.341942</td>\n",
       "      <td>0.298900</td>\n",
       "      <td>0.276901</td>\n",
       "      <td>0.623625</td>\n",
       "      <td>0.658058</td>\n",
       "      <td>...</td>\n",
       "      <td>0.670971</td>\n",
       "      <td>0.656624</td>\n",
       "      <td>0.642276</td>\n",
       "      <td>0.690579</td>\n",
       "      <td>0.648972</td>\n",
       "      <td>0.578192</td>\n",
       "      <td>0.555715</td>\n",
       "      <td>0.218556</td>\n",
       "      <td>0.235294</td>\n",
       "      <td>0.107126</td>\n",
       "    </tr>\n",
       "    <tr>\n",
       "      <th>3</th>\n",
       "      <td>0.351332</td>\n",
       "      <td>0.484935</td>\n",
       "      <td>0.623625</td>\n",
       "      <td>0.380201</td>\n",
       "      <td>0.975132</td>\n",
       "      <td>0.509326</td>\n",
       "      <td>0.888570</td>\n",
       "      <td>0.363462</td>\n",
       "      <td>0.847441</td>\n",
       "      <td>0.237207</td>\n",
       "      <td>...</td>\n",
       "      <td>0.953611</td>\n",
       "      <td>0.656624</td>\n",
       "      <td>0.642276</td>\n",
       "      <td>0.552846</td>\n",
       "      <td>0.648972</td>\n",
       "      <td>0.578192</td>\n",
       "      <td>0.744620</td>\n",
       "      <td>0.458154</td>\n",
       "      <td>0.432807</td>\n",
       "      <td>0.612626</td>\n",
       "    </tr>\n",
       "    <tr>\n",
       "      <th>4</th>\n",
       "      <td>0.627181</td>\n",
       "      <td>0.860832</td>\n",
       "      <td>0.657580</td>\n",
       "      <td>0.745576</td>\n",
       "      <td>0.552846</td>\n",
       "      <td>0.375897</td>\n",
       "      <td>0.483022</td>\n",
       "      <td>0.388331</td>\n",
       "      <td>0.521760</td>\n",
       "      <td>0.387853</td>\n",
       "      <td>...</td>\n",
       "      <td>0.670971</td>\n",
       "      <td>0.656624</td>\n",
       "      <td>0.642276</td>\n",
       "      <td>0.552846</td>\n",
       "      <td>0.648972</td>\n",
       "      <td>0.578192</td>\n",
       "      <td>0.308943</td>\n",
       "      <td>0.805356</td>\n",
       "      <td>0.774271</td>\n",
       "      <td>0.153515</td>\n",
       "    </tr>\n",
       "    <tr>\n",
       "      <th>...</th>\n",
       "      <td>...</td>\n",
       "      <td>...</td>\n",
       "      <td>...</td>\n",
       "      <td>...</td>\n",
       "      <td>...</td>\n",
       "      <td>...</td>\n",
       "      <td>...</td>\n",
       "      <td>...</td>\n",
       "      <td>...</td>\n",
       "      <td>...</td>\n",
       "      <td>...</td>\n",
       "      <td>...</td>\n",
       "      <td>...</td>\n",
       "      <td>...</td>\n",
       "      <td>...</td>\n",
       "      <td>...</td>\n",
       "      <td>...</td>\n",
       "      <td>...</td>\n",
       "      <td>...</td>\n",
       "      <td>...</td>\n",
       "      <td>...</td>\n",
       "    </tr>\n",
       "    <tr>\n",
       "      <th>2089</th>\n",
       "      <td>0.407197</td>\n",
       "      <td>0.279770</td>\n",
       "      <td>0.131038</td>\n",
       "      <td>0.346724</td>\n",
       "      <td>0.317073</td>\n",
       "      <td>0.945481</td>\n",
       "      <td>0.646581</td>\n",
       "      <td>0.913439</td>\n",
       "      <td>0.521760</td>\n",
       "      <td>0.570540</td>\n",
       "      <td>...</td>\n",
       "      <td>0.670971</td>\n",
       "      <td>0.945002</td>\n",
       "      <td>0.642276</td>\n",
       "      <td>0.596365</td>\n",
       "      <td>0.648972</td>\n",
       "      <td>0.749880</td>\n",
       "      <td>0.943568</td>\n",
       "      <td>0.684840</td>\n",
       "      <td>0.711621</td>\n",
       "      <td>0.877571</td>\n",
       "    </tr>\n",
       "    <tr>\n",
       "      <th>2090</th>\n",
       "      <td>0.965930</td>\n",
       "      <td>0.564802</td>\n",
       "      <td>0.311813</td>\n",
       "      <td>0.376375</td>\n",
       "      <td>0.188905</td>\n",
       "      <td>0.187948</td>\n",
       "      <td>0.347202</td>\n",
       "      <td>0.227642</td>\n",
       "      <td>0.521760</td>\n",
       "      <td>0.248685</td>\n",
       "      <td>...</td>\n",
       "      <td>0.670971</td>\n",
       "      <td>0.753228</td>\n",
       "      <td>0.642276</td>\n",
       "      <td>0.552846</td>\n",
       "      <td>0.648972</td>\n",
       "      <td>0.869440</td>\n",
       "      <td>0.316117</td>\n",
       "      <td>0.148733</td>\n",
       "      <td>0.151124</td>\n",
       "      <td>0.030129</td>\n",
       "    </tr>\n",
       "    <tr>\n",
       "      <th>2091</th>\n",
       "      <td>0.527640</td>\n",
       "      <td>0.404489</td>\n",
       "      <td>0.214422</td>\n",
       "      <td>0.822827</td>\n",
       "      <td>0.937440</td>\n",
       "      <td>0.739255</td>\n",
       "      <td>0.909265</td>\n",
       "      <td>0.681471</td>\n",
       "      <td>0.658071</td>\n",
       "      <td>0.822350</td>\n",
       "      <td>...</td>\n",
       "      <td>0.973257</td>\n",
       "      <td>0.886819</td>\n",
       "      <td>0.640401</td>\n",
       "      <td>0.525310</td>\n",
       "      <td>0.776982</td>\n",
       "      <td>0.822827</td>\n",
       "      <td>0.367717</td>\n",
       "      <td>0.584050</td>\n",
       "      <td>0.570201</td>\n",
       "      <td>0.613658</td>\n",
       "    </tr>\n",
       "    <tr>\n",
       "      <th>2092</th>\n",
       "      <td>0.407197</td>\n",
       "      <td>0.606972</td>\n",
       "      <td>0.863897</td>\n",
       "      <td>0.467526</td>\n",
       "      <td>0.225406</td>\n",
       "      <td>0.946036</td>\n",
       "      <td>0.706781</td>\n",
       "      <td>0.934097</td>\n",
       "      <td>0.303247</td>\n",
       "      <td>0.576409</td>\n",
       "      <td>...</td>\n",
       "      <td>0.941738</td>\n",
       "      <td>0.886819</td>\n",
       "      <td>0.640401</td>\n",
       "      <td>0.725883</td>\n",
       "      <td>0.757402</td>\n",
       "      <td>0.822827</td>\n",
       "      <td>0.943649</td>\n",
       "      <td>0.953200</td>\n",
       "      <td>0.956543</td>\n",
       "      <td>0.761700</td>\n",
       "    </tr>\n",
       "    <tr>\n",
       "      <th>2093</th>\n",
       "      <td>0.965930</td>\n",
       "      <td>0.479943</td>\n",
       "      <td>0.250239</td>\n",
       "      <td>0.366762</td>\n",
       "      <td>0.316141</td>\n",
       "      <td>0.489494</td>\n",
       "      <td>0.444126</td>\n",
       "      <td>0.681471</td>\n",
       "      <td>0.303247</td>\n",
       "      <td>0.266953</td>\n",
       "      <td>...</td>\n",
       "      <td>0.941738</td>\n",
       "      <td>0.886819</td>\n",
       "      <td>0.640401</td>\n",
       "      <td>0.525310</td>\n",
       "      <td>0.757402</td>\n",
       "      <td>0.877746</td>\n",
       "      <td>0.444604</td>\n",
       "      <td>0.419293</td>\n",
       "      <td>0.423591</td>\n",
       "      <td>0.042025</td>\n",
       "    </tr>\n",
       "  </tbody>\n",
       "</table>\n",
       "<p>2094 rows × 42 columns</p>\n",
       "</div>"
      ],
      "text/plain": [
       "      AimoScore  No_1_Angle_Deviation  No_2_Angle_Deviation  \\\n",
       "0      0.323667              0.538020              0.815878   \n",
       "1      0.323699              0.443807              0.306552   \n",
       "2      0.848327              0.603539              0.373984   \n",
       "3      0.351332              0.484935              0.623625   \n",
       "4      0.627181              0.860832              0.657580   \n",
       "...         ...                   ...                   ...   \n",
       "2089   0.407197              0.279770              0.131038   \n",
       "2090   0.965930              0.564802              0.311813   \n",
       "2091   0.527640              0.404489              0.214422   \n",
       "2092   0.407197              0.606972              0.863897   \n",
       "2093   0.965930              0.479943              0.250239   \n",
       "\n",
       "      No_3_Angle_Deviation  No_4_Angle_Deviation  No_5_Angle_Deviation  \\\n",
       "0                 0.346724              0.382114              0.302248   \n",
       "1                 0.823529              0.188905              0.497370   \n",
       "2                 0.346724              0.590626              0.341942   \n",
       "3                 0.380201              0.975132              0.509326   \n",
       "4                 0.745576              0.552846              0.375897   \n",
       "...                    ...                   ...                   ...   \n",
       "2089              0.346724              0.317073              0.945481   \n",
       "2090              0.376375              0.188905              0.187948   \n",
       "2091              0.822827              0.937440              0.739255   \n",
       "2092              0.467526              0.225406              0.946036   \n",
       "2093              0.366762              0.316141              0.489494   \n",
       "\n",
       "      No_6_Angle_Deviation  No_7_Angle_Deviation  No_8_Angle_Deviation  \\\n",
       "0                 0.947872              0.275945              0.521760   \n",
       "1                 0.140124              0.664275              0.521760   \n",
       "2                 0.298900              0.276901              0.623625   \n",
       "3                 0.888570              0.363462              0.847441   \n",
       "4                 0.483022              0.388331              0.521760   \n",
       "...                    ...                   ...                   ...   \n",
       "2089              0.646581              0.913439              0.521760   \n",
       "2090              0.347202              0.227642              0.521760   \n",
       "2091              0.909265              0.681471              0.658071   \n",
       "2092              0.706781              0.934097              0.303247   \n",
       "2093              0.444126              0.681471              0.303247   \n",
       "\n",
       "      No_9_Angle_Deviation  ...  No_19_NASM_Deviation  No_20_NASM_Deviation  \\\n",
       "0                 0.457198  ...              0.833094              0.656624   \n",
       "1                 0.729316  ...              0.670971              0.721186   \n",
       "2                 0.658058  ...              0.670971              0.656624   \n",
       "3                 0.237207  ...              0.953611              0.656624   \n",
       "4                 0.387853  ...              0.670971              0.656624   \n",
       "...                    ...  ...                   ...                   ...   \n",
       "2089              0.570540  ...              0.670971              0.945002   \n",
       "2090              0.248685  ...              0.670971              0.753228   \n",
       "2091              0.822350  ...              0.973257              0.886819   \n",
       "2092              0.576409  ...              0.941738              0.886819   \n",
       "2093              0.266953  ...              0.941738              0.886819   \n",
       "\n",
       "      No_21_NASM_Deviation  No_22_NASM_Deviation  No_23_NASM_Deviation  \\\n",
       "0                 0.642276              0.552846              0.648972   \n",
       "1                 0.826399              0.805356              0.848876   \n",
       "2                 0.642276              0.690579              0.648972   \n",
       "3                 0.642276              0.552846              0.648972   \n",
       "4                 0.642276              0.552846              0.648972   \n",
       "...                    ...                   ...                   ...   \n",
       "2089              0.642276              0.596365              0.648972   \n",
       "2090              0.642276              0.552846              0.648972   \n",
       "2091              0.640401              0.525310              0.776982   \n",
       "2092              0.640401              0.725883              0.757402   \n",
       "2093              0.640401              0.525310              0.757402   \n",
       "\n",
       "      No_24_NASM_Deviation  No_25_NASM_Deviation  No_1_Time_Deviation  \\\n",
       "0                 0.578192              0.560019             0.821616   \n",
       "1                 0.889048              0.816834             0.307987   \n",
       "2                 0.578192              0.555715             0.218556   \n",
       "3                 0.578192              0.744620             0.458154   \n",
       "4                 0.578192              0.308943             0.805356   \n",
       "...                    ...                   ...                  ...   \n",
       "2089              0.749880              0.943568             0.684840   \n",
       "2090              0.869440              0.316117             0.148733   \n",
       "2091              0.822827              0.367717             0.584050   \n",
       "2092              0.822827              0.943649             0.953200   \n",
       "2093              0.877746              0.444604             0.419293   \n",
       "\n",
       "      No_2_Time_Deviation  EstimatedScore  \n",
       "0                0.818747        0.209947  \n",
       "1                0.248207        0.457198  \n",
       "2                0.235294        0.107126  \n",
       "3                0.432807        0.612626  \n",
       "4                0.774271        0.153515  \n",
       "...                   ...             ...  \n",
       "2089             0.711621        0.877571  \n",
       "2090             0.151124        0.030129  \n",
       "2091             0.570201        0.613658  \n",
       "2092             0.956543        0.761700  \n",
       "2093             0.423591        0.042025  \n",
       "\n",
       "[2094 rows x 42 columns]"
      ]
     },
     "execution_count": 3,
     "metadata": {},
     "output_type": "execute_result"
    }
   ],
   "source": [
    "df1 = 'AimoScore_WeakLink_big_scores.xls'\n",
    "df1 = pd.read_excel(df1)\n",
    "df1"
   ]
  },
  {
   "attachments": {},
   "cell_type": "markdown",
   "metadata": {},
   "source": [
    "## applying the train test split"
   ]
  },
  {
   "cell_type": "code",
   "execution_count": 4,
   "metadata": {},
   "outputs": [],
   "source": [
    "X1 = df1.drop(['AimoScore','EstimatedScore'], axis= 1)\n",
    "Y1 = df1['AimoScore']\n",
    "\n",
    "trainX1, testX1, trainY1, testY1 = model_selection.train_test_split(X1, Y1, test_size= 0.2)"
   ]
  },
  {
   "attachments": {},
   "cell_type": "markdown",
   "metadata": {},
   "source": [
    "## training different models"
   ]
  },
  {
   "attachments": {},
   "cell_type": "markdown",
   "metadata": {},
   "source": [
    "### Linear Reggression"
   ]
  },
  {
   "cell_type": "code",
   "execution_count": 5,
   "metadata": {},
   "outputs": [
    {
     "data": {
      "text/plain": [
       "0.0355558592714245"
      ]
     },
     "execution_count": 5,
     "metadata": {},
     "output_type": "execute_result"
    }
   ],
   "source": [
    "model = linear_model.SGDRegressor()\n",
    "model.fit(trainX1,trainY1)\n",
    "\n",
    "testP1 = model.predict(testX1)\n",
    "metrics.mean_squared_error(testY1,testP1)"
   ]
  },
  {
   "attachments": {},
   "cell_type": "markdown",
   "metadata": {},
   "source": [
    "### Linear Regression with feature selection"
   ]
  },
  {
   "cell_type": "code",
   "execution_count": 6,
   "metadata": {},
   "outputs": [
    {
     "data": {
      "text/plain": [
       "0.036784186544916476"
      ]
     },
     "execution_count": 6,
     "metadata": {},
     "output_type": "execute_result"
    }
   ],
   "source": [
    "model = pipeline.Pipeline([\n",
    "    ('1',feature_selection.VarianceThreshold(threshold= 0.01)),\n",
    "    ('2',linear_model.SGDRegressor())\n",
    "])\n",
    "\n",
    "model.fit(trainX1,trainY1)\n",
    "\n",
    "testP1 = model.predict(testX1)\n",
    "metrics.mean_squared_error(testY1,testP1)"
   ]
  },
  {
   "attachments": {},
   "cell_type": "markdown",
   "metadata": {},
   "source": [
    "### Weighted linear regression"
   ]
  },
  {
   "cell_type": "code",
   "execution_count": 7,
   "metadata": {},
   "outputs": [
    {
     "data": {
      "text/plain": [
       "0.03370139874541492"
      ]
     },
     "execution_count": 7,
     "metadata": {},
     "output_type": "execute_result"
    }
   ],
   "source": [
    "class WeightApplicator(base.BaseEstimator, base.TransformerMixin):\n",
    "    weights = [\n",
    "        1, 1, 1, 1, 1, 1, 1, 2, 2, 2, \n",
    "        2, 2, 2, 1, 1, 1, 2, 2, 1, 1, \n",
    "        1, 1, 2, 4, 4, 2, 2, 2, 2, 2, \n",
    "        1, 1, 1, 2, 2, 2, 2, 2, 1, 1,\n",
    "    ]\n",
    "    def fit(self, X, y=None):\n",
    "        return self\n",
    "\n",
    "    def transform(self, X, y=None):\n",
    "        # Perform arbitary transformation\n",
    "        X * self.weights\n",
    "        return X\n",
    "    \n",
    "\n",
    "\n",
    "model = pipeline.Pipeline([\n",
    "    ('1',WeightApplicator()),\n",
    "    ('2',linear_model.SGDRegressor())\n",
    "])\n",
    "\n",
    "model.fit(trainX1,trainY1)\n",
    "\n",
    "testP1 = model.predict(testX1)\n",
    "metrics.mean_squared_error(testY1,testP1)"
   ]
  },
  {
   "attachments": {},
   "cell_type": "markdown",
   "metadata": {},
   "source": [
    "# weakest link classification"
   ]
  },
  {
   "attachments": {},
   "cell_type": "markdown",
   "metadata": {},
   "source": [
    "## loading the data"
   ]
  },
  {
   "cell_type": "code",
   "execution_count": 8,
   "metadata": {},
   "outputs": [
    {
     "name": "stderr",
     "output_type": "stream",
     "text": [
      "c:\\Users\\hahme\\miniconda3\\envs\\fozan\\lib\\site-packages\\openpyxl\\worksheet\\_reader.py:329: UserWarning: Unknown extension is not supported and will be removed\n",
      "  warn(msg)\n"
     ]
    },
    {
     "data": {
      "text/html": [
       "<div>\n",
       "<style scoped>\n",
       "    .dataframe tbody tr th:only-of-type {\n",
       "        vertical-align: middle;\n",
       "    }\n",
       "\n",
       "    .dataframe tbody tr th {\n",
       "        vertical-align: top;\n",
       "    }\n",
       "\n",
       "    .dataframe thead th {\n",
       "        text-align: right;\n",
       "    }\n",
       "</style>\n",
       "<table border=\"1\" class=\"dataframe\">\n",
       "  <thead>\n",
       "    <tr style=\"text-align: right;\">\n",
       "      <th></th>\n",
       "      <th>ID</th>\n",
       "      <th>Date</th>\n",
       "      <th>SCORE</th>\n",
       "      <th>ForwardHead</th>\n",
       "      <th>LeftArmFallForward</th>\n",
       "      <th>RightArmFallForward</th>\n",
       "      <th>LeftShoulderElevation</th>\n",
       "      <th>RightShoulderElevation</th>\n",
       "      <th>ExcessiveForwardLean</th>\n",
       "      <th>LeftAsymmetricalWeightShift</th>\n",
       "      <th>RightAsymmetricalWeightShift</th>\n",
       "      <th>LeftKneeMovesInward</th>\n",
       "      <th>RightKneeMovesInward</th>\n",
       "      <th>LeftKneeMovesOutward</th>\n",
       "      <th>RightKneeMovesOutward</th>\n",
       "      <th>LeftHeelRises</th>\n",
       "      <th>RightHeelRises</th>\n",
       "    </tr>\n",
       "  </thead>\n",
       "  <tbody>\n",
       "    <tr>\n",
       "      <th>0</th>\n",
       "      <td>cf0e95ab-d6ec-475a-9cc0-c9444b8dd080.Kinect</td>\n",
       "      <td>2018-07-19</td>\n",
       "      <td>0.612532</td>\n",
       "      <td>0.31</td>\n",
       "      <td>1.34</td>\n",
       "      <td>1.15</td>\n",
       "      <td>0.33</td>\n",
       "      <td>0.49</td>\n",
       "      <td>0.00</td>\n",
       "      <td>0.00</td>\n",
       "      <td>0.08</td>\n",
       "      <td>0.00</td>\n",
       "      <td>0.00</td>\n",
       "      <td>0.00</td>\n",
       "      <td>0.77</td>\n",
       "      <td>0.00</td>\n",
       "      <td>0.0</td>\n",
       "    </tr>\n",
       "    <tr>\n",
       "      <th>1</th>\n",
       "      <td>6210cc6d-575d-4e9f-bab1-4fe1da2a30a3.Kinect</td>\n",
       "      <td>2018-07-30</td>\n",
       "      <td>0.388809</td>\n",
       "      <td>1.49</td>\n",
       "      <td>1.42</td>\n",
       "      <td>1.39</td>\n",
       "      <td>0.00</td>\n",
       "      <td>0.00</td>\n",
       "      <td>1.08</td>\n",
       "      <td>0.10</td>\n",
       "      <td>0.00</td>\n",
       "      <td>0.00</td>\n",
       "      <td>0.00</td>\n",
       "      <td>0.00</td>\n",
       "      <td>0.40</td>\n",
       "      <td>0.00</td>\n",
       "      <td>0.0</td>\n",
       "    </tr>\n",
       "    <tr>\n",
       "      <th>2</th>\n",
       "      <td>2fc2eaad-c098-4b91-94c8-40241da1908e.Kinect</td>\n",
       "      <td>2018-06-19</td>\n",
       "      <td>0.205311</td>\n",
       "      <td>0.01</td>\n",
       "      <td>1.02</td>\n",
       "      <td>1.50</td>\n",
       "      <td>1.07</td>\n",
       "      <td>0.61</td>\n",
       "      <td>0.00</td>\n",
       "      <td>1.50</td>\n",
       "      <td>0.00</td>\n",
       "      <td>0.00</td>\n",
       "      <td>0.95</td>\n",
       "      <td>1.18</td>\n",
       "      <td>0.00</td>\n",
       "      <td>0.00</td>\n",
       "      <td>0.0</td>\n",
       "    </tr>\n",
       "    <tr>\n",
       "      <th>3</th>\n",
       "      <td>60ccb803-a949-403b-80d0-80f8aa36c60d.Kinect</td>\n",
       "      <td>2018-08-25</td>\n",
       "      <td>0.073400</td>\n",
       "      <td>0.00</td>\n",
       "      <td>1.01</td>\n",
       "      <td>0.01</td>\n",
       "      <td>0.02</td>\n",
       "      <td>0.00</td>\n",
       "      <td>0.00</td>\n",
       "      <td>0.00</td>\n",
       "      <td>0.00</td>\n",
       "      <td>0.00</td>\n",
       "      <td>0.00</td>\n",
       "      <td>1.36</td>\n",
       "      <td>1.50</td>\n",
       "      <td>0.21</td>\n",
       "      <td>1.3</td>\n",
       "    </tr>\n",
       "    <tr>\n",
       "      <th>4</th>\n",
       "      <td>90a7047d-452c-4889-b985-3f99afbb9ec0.Kinect</td>\n",
       "      <td>2018-05-09</td>\n",
       "      <td>0.728731</td>\n",
       "      <td>0.00</td>\n",
       "      <td>0.00</td>\n",
       "      <td>0.00</td>\n",
       "      <td>1.35</td>\n",
       "      <td>1.31</td>\n",
       "      <td>0.05</td>\n",
       "      <td>0.00</td>\n",
       "      <td>0.00</td>\n",
       "      <td>0.08</td>\n",
       "      <td>0.62</td>\n",
       "      <td>0.00</td>\n",
       "      <td>0.00</td>\n",
       "      <td>0.00</td>\n",
       "      <td>0.0</td>\n",
       "    </tr>\n",
       "    <tr>\n",
       "      <th>...</th>\n",
       "      <td>...</td>\n",
       "      <td>...</td>\n",
       "      <td>...</td>\n",
       "      <td>...</td>\n",
       "      <td>...</td>\n",
       "      <td>...</td>\n",
       "      <td>...</td>\n",
       "      <td>...</td>\n",
       "      <td>...</td>\n",
       "      <td>...</td>\n",
       "      <td>...</td>\n",
       "      <td>...</td>\n",
       "      <td>...</td>\n",
       "      <td>...</td>\n",
       "      <td>...</td>\n",
       "      <td>...</td>\n",
       "      <td>...</td>\n",
       "    </tr>\n",
       "    <tr>\n",
       "      <th>2091</th>\n",
       "      <td>c2cd9a29-5ab2-4763-9e48-35fe4b2d82f9.Kinect</td>\n",
       "      <td>2018-07-19</td>\n",
       "      <td>0.717855</td>\n",
       "      <td>1.02</td>\n",
       "      <td>1.30</td>\n",
       "      <td>1.09</td>\n",
       "      <td>0.36</td>\n",
       "      <td>0.41</td>\n",
       "      <td>0.00</td>\n",
       "      <td>0.00</td>\n",
       "      <td>0.03</td>\n",
       "      <td>0.00</td>\n",
       "      <td>0.00</td>\n",
       "      <td>0.00</td>\n",
       "      <td>0.00</td>\n",
       "      <td>0.00</td>\n",
       "      <td>0.0</td>\n",
       "    </tr>\n",
       "    <tr>\n",
       "      <th>2092</th>\n",
       "      <td>75022edf-bc9d-4974-a178-28eaf9bf7d41.Kinect</td>\n",
       "      <td>2018-07-20</td>\n",
       "      <td>0.348149</td>\n",
       "      <td>1.50</td>\n",
       "      <td>1.32</td>\n",
       "      <td>1.39</td>\n",
       "      <td>0.56</td>\n",
       "      <td>0.03</td>\n",
       "      <td>0.00</td>\n",
       "      <td>1.50</td>\n",
       "      <td>0.00</td>\n",
       "      <td>0.00</td>\n",
       "      <td>0.02</td>\n",
       "      <td>0.00</td>\n",
       "      <td>0.00</td>\n",
       "      <td>0.00</td>\n",
       "      <td>0.0</td>\n",
       "    </tr>\n",
       "    <tr>\n",
       "      <th>2093</th>\n",
       "      <td>6e75d92b-8b71-476c-8323-5c19459cede2.Kinect</td>\n",
       "      <td>2018-05-31</td>\n",
       "      <td>0.754710</td>\n",
       "      <td>0.02</td>\n",
       "      <td>0.00</td>\n",
       "      <td>0.00</td>\n",
       "      <td>0.14</td>\n",
       "      <td>1.02</td>\n",
       "      <td>0.14</td>\n",
       "      <td>0.23</td>\n",
       "      <td>0.00</td>\n",
       "      <td>0.00</td>\n",
       "      <td>0.30</td>\n",
       "      <td>0.00</td>\n",
       "      <td>0.00</td>\n",
       "      <td>0.00</td>\n",
       "      <td>0.0</td>\n",
       "    </tr>\n",
       "    <tr>\n",
       "      <th>2094</th>\n",
       "      <td>743d9af8-cb6b-4769-99b3-e38840333e1d.Kinect</td>\n",
       "      <td>2018-06-26</td>\n",
       "      <td>0.545329</td>\n",
       "      <td>0.00</td>\n",
       "      <td>1.18</td>\n",
       "      <td>1.04</td>\n",
       "      <td>0.15</td>\n",
       "      <td>0.00</td>\n",
       "      <td>0.00</td>\n",
       "      <td>0.00</td>\n",
       "      <td>0.00</td>\n",
       "      <td>0.00</td>\n",
       "      <td>0.00</td>\n",
       "      <td>1.50</td>\n",
       "      <td>0.39</td>\n",
       "      <td>0.05</td>\n",
       "      <td>0.0</td>\n",
       "    </tr>\n",
       "    <tr>\n",
       "      <th>2095</th>\n",
       "      <td>8f1b9646-337a-4692-a501-78010c314b4a.Kinect</td>\n",
       "      <td>2018-07-29</td>\n",
       "      <td>0.841988</td>\n",
       "      <td>0.00</td>\n",
       "      <td>0.28</td>\n",
       "      <td>0.62</td>\n",
       "      <td>0.95</td>\n",
       "      <td>0.75</td>\n",
       "      <td>0.00</td>\n",
       "      <td>0.00</td>\n",
       "      <td>0.00</td>\n",
       "      <td>0.00</td>\n",
       "      <td>0.00</td>\n",
       "      <td>0.00</td>\n",
       "      <td>0.00</td>\n",
       "      <td>0.00</td>\n",
       "      <td>0.0</td>\n",
       "    </tr>\n",
       "  </tbody>\n",
       "</table>\n",
       "<p>2096 rows × 17 columns</p>\n",
       "</div>"
      ],
      "text/plain": [
       "                                               ID       Date     SCORE  \\\n",
       "0     cf0e95ab-d6ec-475a-9cc0-c9444b8dd080.Kinect 2018-07-19  0.612532   \n",
       "1     6210cc6d-575d-4e9f-bab1-4fe1da2a30a3.Kinect 2018-07-30  0.388809   \n",
       "2     2fc2eaad-c098-4b91-94c8-40241da1908e.Kinect 2018-06-19  0.205311   \n",
       "3     60ccb803-a949-403b-80d0-80f8aa36c60d.Kinect 2018-08-25  0.073400   \n",
       "4     90a7047d-452c-4889-b985-3f99afbb9ec0.Kinect 2018-05-09  0.728731   \n",
       "...                                           ...        ...       ...   \n",
       "2091  c2cd9a29-5ab2-4763-9e48-35fe4b2d82f9.Kinect 2018-07-19  0.717855   \n",
       "2092  75022edf-bc9d-4974-a178-28eaf9bf7d41.Kinect 2018-07-20  0.348149   \n",
       "2093  6e75d92b-8b71-476c-8323-5c19459cede2.Kinect 2018-05-31  0.754710   \n",
       "2094  743d9af8-cb6b-4769-99b3-e38840333e1d.Kinect 2018-06-26  0.545329   \n",
       "2095  8f1b9646-337a-4692-a501-78010c314b4a.Kinect 2018-07-29  0.841988   \n",
       "\n",
       "      ForwardHead  LeftArmFallForward  RightArmFallForward  \\\n",
       "0            0.31                1.34                 1.15   \n",
       "1            1.49                1.42                 1.39   \n",
       "2            0.01                1.02                 1.50   \n",
       "3            0.00                1.01                 0.01   \n",
       "4            0.00                0.00                 0.00   \n",
       "...           ...                 ...                  ...   \n",
       "2091         1.02                1.30                 1.09   \n",
       "2092         1.50                1.32                 1.39   \n",
       "2093         0.02                0.00                 0.00   \n",
       "2094         0.00                1.18                 1.04   \n",
       "2095         0.00                0.28                 0.62   \n",
       "\n",
       "      LeftShoulderElevation  RightShoulderElevation  ExcessiveForwardLean  \\\n",
       "0                      0.33                    0.49                  0.00   \n",
       "1                      0.00                    0.00                  1.08   \n",
       "2                      1.07                    0.61                  0.00   \n",
       "3                      0.02                    0.00                  0.00   \n",
       "4                      1.35                    1.31                  0.05   \n",
       "...                     ...                     ...                   ...   \n",
       "2091                   0.36                    0.41                  0.00   \n",
       "2092                   0.56                    0.03                  0.00   \n",
       "2093                   0.14                    1.02                  0.14   \n",
       "2094                   0.15                    0.00                  0.00   \n",
       "2095                   0.95                    0.75                  0.00   \n",
       "\n",
       "      LeftAsymmetricalWeightShift  RightAsymmetricalWeightShift  \\\n",
       "0                            0.00                          0.08   \n",
       "1                            0.10                          0.00   \n",
       "2                            1.50                          0.00   \n",
       "3                            0.00                          0.00   \n",
       "4                            0.00                          0.00   \n",
       "...                           ...                           ...   \n",
       "2091                         0.00                          0.03   \n",
       "2092                         1.50                          0.00   \n",
       "2093                         0.23                          0.00   \n",
       "2094                         0.00                          0.00   \n",
       "2095                         0.00                          0.00   \n",
       "\n",
       "      LeftKneeMovesInward  RightKneeMovesInward  LeftKneeMovesOutward  \\\n",
       "0                    0.00                  0.00                  0.00   \n",
       "1                    0.00                  0.00                  0.00   \n",
       "2                    0.00                  0.95                  1.18   \n",
       "3                    0.00                  0.00                  1.36   \n",
       "4                    0.08                  0.62                  0.00   \n",
       "...                   ...                   ...                   ...   \n",
       "2091                 0.00                  0.00                  0.00   \n",
       "2092                 0.00                  0.02                  0.00   \n",
       "2093                 0.00                  0.30                  0.00   \n",
       "2094                 0.00                  0.00                  1.50   \n",
       "2095                 0.00                  0.00                  0.00   \n",
       "\n",
       "      RightKneeMovesOutward  LeftHeelRises  RightHeelRises  \n",
       "0                      0.77           0.00             0.0  \n",
       "1                      0.40           0.00             0.0  \n",
       "2                      0.00           0.00             0.0  \n",
       "3                      1.50           0.21             1.3  \n",
       "4                      0.00           0.00             0.0  \n",
       "...                     ...            ...             ...  \n",
       "2091                   0.00           0.00             0.0  \n",
       "2092                   0.00           0.00             0.0  \n",
       "2093                   0.00           0.00             0.0  \n",
       "2094                   0.39           0.05             0.0  \n",
       "2095                   0.00           0.00             0.0  \n",
       "\n",
       "[2096 rows x 17 columns]"
      ]
     },
     "execution_count": 8,
     "metadata": {},
     "output_type": "execute_result"
    }
   ],
   "source": [
    "df2 = '20190108 scores_and_weak_links.xlsx'\n",
    "df2 = pd.read_excel(df2)\n",
    "df2"
   ]
  },
  {
   "attachments": {},
   "cell_type": "markdown",
   "metadata": {},
   "source": [
    "## applying train test split"
   ]
  },
  {
   "cell_type": "code",
   "execution_count": 9,
   "metadata": {},
   "outputs": [],
   "source": [
    "X2 = df2.drop(['ID','Date','SCORE'], axis= 1)\n",
    "Y2 = X2.values.argmax(axis= 1)\n",
    "\n",
    "trainX2, testX2, trainY2, testY2 = model_selection.train_test_split(X2, Y2, test_size= 0.2)"
   ]
  },
  {
   "attachments": {},
   "cell_type": "markdown",
   "metadata": {},
   "source": [
    "## training models"
   ]
  },
  {
   "attachments": {},
   "cell_type": "markdown",
   "metadata": {},
   "source": [
    "### Nearest neighbours"
   ]
  },
  {
   "cell_type": "code",
   "execution_count": 10,
   "metadata": {},
   "outputs": [
    {
     "data": {
      "text/plain": [
       "0.6738095238095239"
      ]
     },
     "execution_count": 10,
     "metadata": {},
     "output_type": "execute_result"
    }
   ],
   "source": [
    "model = neighbors.KNeighborsClassifier(n_neighbors= 10)\n",
    "\n",
    "model.fit(trainX2,trainY2)\n",
    "\n",
    "testP2 = model.predict(testX2)\n",
    "metrics.accuracy_score(testY2,testP2)"
   ]
  },
  {
   "attachments": {},
   "cell_type": "markdown",
   "metadata": {},
   "source": [
    "### Naive Bayes"
   ]
  },
  {
   "cell_type": "code",
   "execution_count": 11,
   "metadata": {},
   "outputs": [
    {
     "data": {
      "text/plain": [
       "0.2904761904761905"
      ]
     },
     "execution_count": 11,
     "metadata": {},
     "output_type": "execute_result"
    }
   ],
   "source": [
    "model = naive_bayes.GaussianNB()\n",
    "\n",
    "model.fit(trainX2,trainY2)\n",
    "\n",
    "testP2 = model.predict(testX2)\n",
    "metrics.accuracy_score(testY2,testP2)"
   ]
  },
  {
   "attachments": {},
   "cell_type": "markdown",
   "metadata": {},
   "source": [
    "### logistic regressor"
   ]
  },
  {
   "cell_type": "code",
   "execution_count": 12,
   "metadata": {},
   "outputs": [
    {
     "name": "stderr",
     "output_type": "stream",
     "text": [
      "c:\\Users\\hahme\\miniconda3\\envs\\fozan\\lib\\site-packages\\sklearn\\linear_model\\_logistic.py:458: ConvergenceWarning: lbfgs failed to converge (status=1):\n",
      "STOP: TOTAL NO. of ITERATIONS REACHED LIMIT.\n",
      "\n",
      "Increase the number of iterations (max_iter) or scale the data as shown in:\n",
      "    https://scikit-learn.org/stable/modules/preprocessing.html\n",
      "Please also refer to the documentation for alternative solver options:\n",
      "    https://scikit-learn.org/stable/modules/linear_model.html#logistic-regression\n",
      "  n_iter_i = _check_optimize_result(\n"
     ]
    },
    {
     "data": {
      "text/plain": [
       "0.8404761904761905"
      ]
     },
     "execution_count": 12,
     "metadata": {},
     "output_type": "execute_result"
    }
   ],
   "source": [
    "model = linear_model.LogisticRegression()\n",
    "\n",
    "model.fit(trainX2,trainY2)\n",
    "\n",
    "testP2 = model.predict(testX2)\n",
    "metrics.accuracy_score(testY2,testP2)"
   ]
  },
  {
   "attachments": {},
   "cell_type": "markdown",
   "metadata": {},
   "source": [
    "# Improving models using cross validation"
   ]
  },
  {
   "attachments": {},
   "cell_type": "markdown",
   "metadata": {},
   "source": [
    "## champion regression model"
   ]
  },
  {
   "cell_type": "code",
   "execution_count": 13,
   "metadata": {},
   "outputs": [
    {
     "name": "stdout",
     "output_type": "stream",
     "text": [
      "the maximum score is achieved with loss epsilon_insensitive and penalty None\n"
     ]
    }
   ],
   "source": [
    "losses    = ['squared_error', 'huber', 'epsilon_insensitive', 'squared_epsilon_insensitive']\n",
    "penalties = ['l2', 'l1', 'elasticnet', None]\n",
    "\n",
    "loss, penalty = max(\n",
    "    itertools.product(losses,penalties), \n",
    "    key= lambda e: model_selection.cross_val_score(\n",
    "        linear_model.SGDRegressor(loss= e[0], penalty= e[1]), \n",
    "        trainX1, \n",
    "        trainY1\n",
    "    ).mean()\n",
    ")\n",
    "\n",
    "print(f'the maximum score is achieved with loss {loss} and penalty {penalty}')"
   ]
  },
  {
   "cell_type": "code",
   "execution_count": 20,
   "metadata": {},
   "outputs": [
    {
     "data": {
      "text/plain": [
       "0.025296526707442354"
      ]
     },
     "execution_count": 20,
     "metadata": {},
     "output_type": "execute_result"
    }
   ],
   "source": [
    "model = linear_model.SGDRegressor(loss= 'epsilon_insensitive', penalty= 'l2').fit(trainX1,trainY1)\n",
    "model.fit(trainX1,trainY1)\n",
    "\n",
    "testP1 = model.predict(testX1)\n",
    "metrics.mean_squared_error(testY1,testP1)"
   ]
  },
  {
   "attachments": {},
   "cell_type": "markdown",
   "metadata": {},
   "source": [
    "## champion classsification model"
   ]
  },
  {
   "cell_type": "code",
   "execution_count": 15,
   "metadata": {},
   "outputs": [
    {
     "name": "stderr",
     "output_type": "stream",
     "text": [
      "c:\\Users\\hahme\\miniconda3\\envs\\fozan\\lib\\site-packages\\sklearn\\model_selection\\_split.py:700: UserWarning: The least populated class in y has only 3 members, which is less than n_splits=5.\n",
      "  warnings.warn(\n",
      "c:\\Users\\hahme\\miniconda3\\envs\\fozan\\lib\\site-packages\\sklearn\\model_selection\\_split.py:700: UserWarning: The least populated class in y has only 3 members, which is less than n_splits=5.\n",
      "  warnings.warn(\n",
      "c:\\Users\\hahme\\miniconda3\\envs\\fozan\\lib\\site-packages\\sklearn\\linear_model\\_sag.py:350: ConvergenceWarning: The max_iter was reached which means the coef_ did not converge\n",
      "  warnings.warn(\n",
      "c:\\Users\\hahme\\miniconda3\\envs\\fozan\\lib\\site-packages\\sklearn\\linear_model\\_sag.py:350: ConvergenceWarning: The max_iter was reached which means the coef_ did not converge\n",
      "  warnings.warn(\n",
      "c:\\Users\\hahme\\miniconda3\\envs\\fozan\\lib\\site-packages\\sklearn\\linear_model\\_sag.py:350: ConvergenceWarning: The max_iter was reached which means the coef_ did not converge\n",
      "  warnings.warn(\n",
      "c:\\Users\\hahme\\miniconda3\\envs\\fozan\\lib\\site-packages\\sklearn\\linear_model\\_sag.py:350: ConvergenceWarning: The max_iter was reached which means the coef_ did not converge\n",
      "  warnings.warn(\n",
      "c:\\Users\\hahme\\miniconda3\\envs\\fozan\\lib\\site-packages\\sklearn\\linear_model\\_sag.py:350: ConvergenceWarning: The max_iter was reached which means the coef_ did not converge\n",
      "  warnings.warn(\n",
      "c:\\Users\\hahme\\miniconda3\\envs\\fozan\\lib\\site-packages\\sklearn\\model_selection\\_split.py:700: UserWarning: The least populated class in y has only 3 members, which is less than n_splits=5.\n",
      "  warnings.warn(\n",
      "c:\\Users\\hahme\\miniconda3\\envs\\fozan\\lib\\site-packages\\sklearn\\linear_model\\_sag.py:350: ConvergenceWarning: The max_iter was reached which means the coef_ did not converge\n",
      "  warnings.warn(\n",
      "c:\\Users\\hahme\\miniconda3\\envs\\fozan\\lib\\site-packages\\sklearn\\linear_model\\_sag.py:350: ConvergenceWarning: The max_iter was reached which means the coef_ did not converge\n",
      "  warnings.warn(\n",
      "c:\\Users\\hahme\\miniconda3\\envs\\fozan\\lib\\site-packages\\sklearn\\linear_model\\_sag.py:350: ConvergenceWarning: The max_iter was reached which means the coef_ did not converge\n",
      "  warnings.warn(\n",
      "c:\\Users\\hahme\\miniconda3\\envs\\fozan\\lib\\site-packages\\sklearn\\linear_model\\_sag.py:350: ConvergenceWarning: The max_iter was reached which means the coef_ did not converge\n",
      "  warnings.warn(\n"
     ]
    },
    {
     "name": "stdout",
     "output_type": "stream",
     "text": [
      "the maximum score is achieved with penalty l1\n"
     ]
    },
    {
     "name": "stderr",
     "output_type": "stream",
     "text": [
      "c:\\Users\\hahme\\miniconda3\\envs\\fozan\\lib\\site-packages\\sklearn\\linear_model\\_sag.py:350: ConvergenceWarning: The max_iter was reached which means the coef_ did not converge\n",
      "  warnings.warn(\n"
     ]
    }
   ],
   "source": [
    "penalties = ['l2', 'l1', None]\n",
    "\n",
    "penalty = max(\n",
    "    penalties, \n",
    "    key= lambda e: model_selection.cross_val_score(\n",
    "        linear_model.LogisticRegression(penalty= e, solver= 'saga'), \n",
    "        trainX2, \n",
    "        trainY2\n",
    "    ).mean()\n",
    ")\n",
    "\n",
    "print(f'the maximum score is achieved with penalty {penalty}')"
   ]
  },
  {
   "cell_type": "code",
   "execution_count": 22,
   "metadata": {},
   "outputs": [
    {
     "name": "stderr",
     "output_type": "stream",
     "text": [
      "c:\\Users\\hahme\\miniconda3\\envs\\fozan\\lib\\site-packages\\sklearn\\linear_model\\_sag.py:350: ConvergenceWarning: The max_iter was reached which means the coef_ did not converge\n",
      "  warnings.warn(\n"
     ]
    },
    {
     "data": {
      "text/plain": [
       "0.9238095238095239"
      ]
     },
     "execution_count": 22,
     "metadata": {},
     "output_type": "execute_result"
    }
   ],
   "source": [
    "model = linear_model.LogisticRegression(penalty= 'l1', solver= 'saga')\n",
    "model.fit(trainX2,trainY2)\n",
    "\n",
    "testP2 = model.predict(testX2)\n",
    "metrics.accuracy_score(testY2,testP2)"
   ]
  },
  {
   "attachments": {},
   "cell_type": "markdown",
   "metadata": {},
   "source": [
    "# Tree based approach"
   ]
  },
  {
   "attachments": {},
   "cell_type": "markdown",
   "metadata": {},
   "source": [
    "## regression model"
   ]
  },
  {
   "cell_type": "code",
   "execution_count": 19,
   "metadata": {},
   "outputs": [
    {
     "data": {
      "text/plain": [
       "0.03956074584487774"
      ]
     },
     "execution_count": 19,
     "metadata": {},
     "output_type": "execute_result"
    }
   ],
   "source": [
    "model = tree.DecisionTreeRegressor()\n",
    "model.fit(trainX1,trainY1)\n",
    "\n",
    "testP1 = model.predict(testX1)\n",
    "metrics.mean_squared_error(testY1,testP1)"
   ]
  },
  {
   "attachments": {},
   "cell_type": "markdown",
   "metadata": {},
   "source": [
    "## classification model"
   ]
  },
  {
   "cell_type": "code",
   "execution_count": 18,
   "metadata": {},
   "outputs": [
    {
     "data": {
      "text/plain": [
       "0.8428571428571429"
      ]
     },
     "execution_count": 18,
     "metadata": {},
     "output_type": "execute_result"
    }
   ],
   "source": [
    "model = tree.DecisionTreeClassifier()\n",
    "model.fit(trainX2,trainY2)\n",
    "\n",
    "testP2 = model.predict(testX2)\n",
    "metrics.accuracy_score(testY2,testP2)"
   ]
  },
  {
   "cell_type": "code",
   "execution_count": null,
   "metadata": {},
   "outputs": [],
   "source": []
  }
 ],
 "metadata": {
  "kernelspec": {
   "display_name": "fozan",
   "language": "python",
   "name": "python3"
  },
  "language_info": {
   "codemirror_mode": {
    "name": "ipython",
    "version": 3
   },
   "file_extension": ".py",
   "mimetype": "text/x-python",
   "name": "python",
   "nbconvert_exporter": "python",
   "pygments_lexer": "ipython3",
   "version": "3.10.9"
  },
  "orig_nbformat": 4
 },
 "nbformat": 4,
 "nbformat_minor": 2
}
