{
 "cells": [
  {
   "cell_type": "code",
   "execution_count": 5,
   "metadata": {},
   "outputs": [],
   "source": [
    "import itertools\n",
    "import pandas as pd\n",
    "\n",
    "from sklearn import (\n",
    "    model_selection, linear_model, metrics\n",
    ")"
   ]
  },
  {
   "cell_type": "markdown",
   "metadata": {},
   "source": [
    "## loading data"
   ]
  },
  {
   "cell_type": "code",
   "execution_count": 6,
   "metadata": {},
   "outputs": [
    {
     "name": "stderr",
     "output_type": "stream",
     "text": [
      "c:\\Users\\hahme\\miniconda3\\envs\\fozan\\lib\\site-packages\\openpyxl\\worksheet\\_reader.py:329: UserWarning: Unknown extension is not supported and will be removed\n",
      "  warn(msg)\n"
     ]
    }
   ],
   "source": [
    "df1 = 'AimoScore_WeakLink_big_scores (1).xls'\n",
    "df1 = pd.read_excel(df1)\n",
    "\n",
    "df2 = '20190108 scores_and_weak_links.xlsx'\n",
    "df2 = pd.read_excel(df2)"
   ]
  },
  {
   "cell_type": "markdown",
   "metadata": {},
   "source": [
    "## applying the train test split"
   ]
  },
  {
   "cell_type": "code",
   "execution_count": 7,
   "metadata": {},
   "outputs": [],
   "source": [
    "X1 = df1.drop(['AimoScore','EstimatedScore'], axis= 1)\n",
    "Y1 = df1['AimoScore']\n",
    "\n",
    "X2 = df2.drop(['ID','Date','SCORE'], axis= 1)\n",
    "Y2 = X2.values.argmax(axis= 1)\n",
    "\n",
    "trainX1, testX1, trainY1, testY1 = model_selection.train_test_split(X1, Y1, test_size= 0.2)\n",
    "trainX2, testX2, trainY2, testY2 = model_selection.train_test_split(X2, Y2, test_size= 0.2)"
   ]
  },
  {
   "cell_type": "markdown",
   "metadata": {},
   "source": [
    "# Improving models using cross validation"
   ]
  },
  {
   "cell_type": "markdown",
   "metadata": {},
   "source": [
    "## champion regression model"
   ]
  },
  {
   "cell_type": "code",
   "execution_count": 8,
   "metadata": {},
   "outputs": [
    {
     "ename": "ValueError",
     "evalue": "\nAll the 5 fits failed.\nIt is very likely that your model is misconfigured.\nYou can try to debug the error by setting error_score='raise'.\n\nBelow are more details about the failures:\n--------------------------------------------------------------------------------\n1 fits failed with the following error:\nTraceback (most recent call last):\n  File \"c:\\Users\\hahme\\miniconda3\\envs\\fozan\\lib\\site-packages\\sklearn\\model_selection\\_validation.py\", line 686, in _fit_and_score\n    estimator.fit(X_train, y_train, **fit_params)\n  File \"c:\\Users\\hahme\\miniconda3\\envs\\fozan\\lib\\site-packages\\sklearn\\linear_model\\_stochastic_gradient.py\", line 1585, in fit\n    return self._fit(\n  File \"c:\\Users\\hahme\\miniconda3\\envs\\fozan\\lib\\site-packages\\sklearn\\linear_model\\_stochastic_gradient.py\", line 1530, in _fit\n    self._partial_fit(\n  File \"c:\\Users\\hahme\\miniconda3\\envs\\fozan\\lib\\site-packages\\sklearn\\linear_model\\_stochastic_gradient.py\", line 1435, in _partial_fit\n    X, y = self._validate_data(\n  File \"c:\\Users\\hahme\\miniconda3\\envs\\fozan\\lib\\site-packages\\sklearn\\base.py\", line 584, in _validate_data\n    X, y = check_X_y(X, y, **check_params)\n  File \"c:\\Users\\hahme\\miniconda3\\envs\\fozan\\lib\\site-packages\\sklearn\\utils\\validation.py\", line 1106, in check_X_y\n    X = check_array(\n  File \"c:\\Users\\hahme\\miniconda3\\envs\\fozan\\lib\\site-packages\\sklearn\\utils\\validation.py\", line 879, in check_array\n    array = _asarray_with_order(array, order=order, dtype=dtype, xp=xp)\n  File \"c:\\Users\\hahme\\miniconda3\\envs\\fozan\\lib\\site-packages\\sklearn\\utils\\_array_api.py\", line 185, in _asarray_with_order\n    array = numpy.asarray(array, order=order, dtype=dtype)\n  File \"c:\\Users\\hahme\\miniconda3\\envs\\fozan\\lib\\site-packages\\pandas\\core\\generic.py\", line 2070, in __array__\n    return np.asarray(self._values, dtype=dtype)\nValueError: could not convert string to float: '5f77fc27-9b40-4bfe-bc48-dcc3b7d9bb90.Kinect'\n\n--------------------------------------------------------------------------------\n4 fits failed with the following error:\nTraceback (most recent call last):\n  File \"c:\\Users\\hahme\\miniconda3\\envs\\fozan\\lib\\site-packages\\sklearn\\model_selection\\_validation.py\", line 686, in _fit_and_score\n    estimator.fit(X_train, y_train, **fit_params)\n  File \"c:\\Users\\hahme\\miniconda3\\envs\\fozan\\lib\\site-packages\\sklearn\\linear_model\\_stochastic_gradient.py\", line 1585, in fit\n    return self._fit(\n  File \"c:\\Users\\hahme\\miniconda3\\envs\\fozan\\lib\\site-packages\\sklearn\\linear_model\\_stochastic_gradient.py\", line 1530, in _fit\n    self._partial_fit(\n  File \"c:\\Users\\hahme\\miniconda3\\envs\\fozan\\lib\\site-packages\\sklearn\\linear_model\\_stochastic_gradient.py\", line 1435, in _partial_fit\n    X, y = self._validate_data(\n  File \"c:\\Users\\hahme\\miniconda3\\envs\\fozan\\lib\\site-packages\\sklearn\\base.py\", line 584, in _validate_data\n    X, y = check_X_y(X, y, **check_params)\n  File \"c:\\Users\\hahme\\miniconda3\\envs\\fozan\\lib\\site-packages\\sklearn\\utils\\validation.py\", line 1106, in check_X_y\n    X = check_array(\n  File \"c:\\Users\\hahme\\miniconda3\\envs\\fozan\\lib\\site-packages\\sklearn\\utils\\validation.py\", line 879, in check_array\n    array = _asarray_with_order(array, order=order, dtype=dtype, xp=xp)\n  File \"c:\\Users\\hahme\\miniconda3\\envs\\fozan\\lib\\site-packages\\sklearn\\utils\\_array_api.py\", line 185, in _asarray_with_order\n    array = numpy.asarray(array, order=order, dtype=dtype)\n  File \"c:\\Users\\hahme\\miniconda3\\envs\\fozan\\lib\\site-packages\\pandas\\core\\generic.py\", line 2070, in __array__\n    return np.asarray(self._values, dtype=dtype)\nValueError: could not convert string to float: '50450a2d-ccc1-4ca1-a503-5b10ff72b857.Kinect'\n",
     "output_type": "error",
     "traceback": [
      "\u001b[1;31m---------------------------------------------------------------------------\u001b[0m",
      "\u001b[1;31mValueError\u001b[0m                                Traceback (most recent call last)",
      "Cell \u001b[1;32mIn[8], line 4\u001b[0m\n\u001b[0;32m      1\u001b[0m losses    \u001b[39m=\u001b[39m [\u001b[39m'\u001b[39m\u001b[39msquared_error\u001b[39m\u001b[39m'\u001b[39m, \u001b[39m'\u001b[39m\u001b[39mhuber\u001b[39m\u001b[39m'\u001b[39m, \u001b[39m'\u001b[39m\u001b[39mepsilon_insensitive\u001b[39m\u001b[39m'\u001b[39m, \u001b[39m'\u001b[39m\u001b[39msquared_epsilon_insensitive\u001b[39m\u001b[39m'\u001b[39m]\n\u001b[0;32m      2\u001b[0m penalties \u001b[39m=\u001b[39m [\u001b[39m'\u001b[39m\u001b[39ml2\u001b[39m\u001b[39m'\u001b[39m, \u001b[39m'\u001b[39m\u001b[39ml1\u001b[39m\u001b[39m'\u001b[39m, \u001b[39m'\u001b[39m\u001b[39melasticnet\u001b[39m\u001b[39m'\u001b[39m, \u001b[39mNone\u001b[39;00m]\n\u001b[1;32m----> 4\u001b[0m loss, penalty \u001b[39m=\u001b[39m \u001b[39mmax\u001b[39;49m(\n\u001b[0;32m      5\u001b[0m     itertools\u001b[39m.\u001b[39;49mproduct(losses,penalties), \n\u001b[0;32m      6\u001b[0m     key\u001b[39m=\u001b[39;49m \u001b[39mlambda\u001b[39;49;00m e: model_selection\u001b[39m.\u001b[39;49mcross_val_score(\n\u001b[0;32m      7\u001b[0m         linear_model\u001b[39m.\u001b[39;49mSGDRegressor(loss\u001b[39m=\u001b[39;49m e[\u001b[39m0\u001b[39;49m], penalty\u001b[39m=\u001b[39;49m e[\u001b[39m1\u001b[39;49m]), \n\u001b[0;32m      8\u001b[0m         trainX1, \n\u001b[0;32m      9\u001b[0m         trainY1\n\u001b[0;32m     10\u001b[0m     )\u001b[39m.\u001b[39;49mmean()\n\u001b[0;32m     11\u001b[0m )\n\u001b[0;32m     13\u001b[0m \u001b[39mprint\u001b[39m(\u001b[39mf\u001b[39m\u001b[39m'\u001b[39m\u001b[39mthe maximum score is achieved with loss \u001b[39m\u001b[39m{\u001b[39;00mloss\u001b[39m}\u001b[39;00m\u001b[39m and penalty \u001b[39m\u001b[39m{\u001b[39;00mpenalty\u001b[39m}\u001b[39;00m\u001b[39m'\u001b[39m)\n",
      "Cell \u001b[1;32mIn[8], line 6\u001b[0m, in \u001b[0;36m<lambda>\u001b[1;34m(e)\u001b[0m\n\u001b[0;32m      1\u001b[0m losses    \u001b[39m=\u001b[39m [\u001b[39m'\u001b[39m\u001b[39msquared_error\u001b[39m\u001b[39m'\u001b[39m, \u001b[39m'\u001b[39m\u001b[39mhuber\u001b[39m\u001b[39m'\u001b[39m, \u001b[39m'\u001b[39m\u001b[39mepsilon_insensitive\u001b[39m\u001b[39m'\u001b[39m, \u001b[39m'\u001b[39m\u001b[39msquared_epsilon_insensitive\u001b[39m\u001b[39m'\u001b[39m]\n\u001b[0;32m      2\u001b[0m penalties \u001b[39m=\u001b[39m [\u001b[39m'\u001b[39m\u001b[39ml2\u001b[39m\u001b[39m'\u001b[39m, \u001b[39m'\u001b[39m\u001b[39ml1\u001b[39m\u001b[39m'\u001b[39m, \u001b[39m'\u001b[39m\u001b[39melasticnet\u001b[39m\u001b[39m'\u001b[39m, \u001b[39mNone\u001b[39;00m]\n\u001b[0;32m      4\u001b[0m loss, penalty \u001b[39m=\u001b[39m \u001b[39mmax\u001b[39m(\n\u001b[0;32m      5\u001b[0m     itertools\u001b[39m.\u001b[39mproduct(losses,penalties), \n\u001b[1;32m----> 6\u001b[0m     key\u001b[39m=\u001b[39m \u001b[39mlambda\u001b[39;00m e: model_selection\u001b[39m.\u001b[39;49mcross_val_score(\n\u001b[0;32m      7\u001b[0m         linear_model\u001b[39m.\u001b[39;49mSGDRegressor(loss\u001b[39m=\u001b[39;49m e[\u001b[39m0\u001b[39;49m], penalty\u001b[39m=\u001b[39;49m e[\u001b[39m1\u001b[39;49m]), \n\u001b[0;32m      8\u001b[0m         trainX1, \n\u001b[0;32m      9\u001b[0m         trainY1\n\u001b[0;32m     10\u001b[0m     )\u001b[39m.\u001b[39mmean()\n\u001b[0;32m     11\u001b[0m )\n\u001b[0;32m     13\u001b[0m \u001b[39mprint\u001b[39m(\u001b[39mf\u001b[39m\u001b[39m'\u001b[39m\u001b[39mthe maximum score is achieved with loss \u001b[39m\u001b[39m{\u001b[39;00mloss\u001b[39m}\u001b[39;00m\u001b[39m and penalty \u001b[39m\u001b[39m{\u001b[39;00mpenalty\u001b[39m}\u001b[39;00m\u001b[39m'\u001b[39m)\n",
      "File \u001b[1;32mc:\\Users\\hahme\\miniconda3\\envs\\fozan\\lib\\site-packages\\sklearn\\model_selection\\_validation.py:515\u001b[0m, in \u001b[0;36mcross_val_score\u001b[1;34m(estimator, X, y, groups, scoring, cv, n_jobs, verbose, fit_params, pre_dispatch, error_score)\u001b[0m\n\u001b[0;32m    512\u001b[0m \u001b[39m# To ensure multimetric format is not supported\u001b[39;00m\n\u001b[0;32m    513\u001b[0m scorer \u001b[39m=\u001b[39m check_scoring(estimator, scoring\u001b[39m=\u001b[39mscoring)\n\u001b[1;32m--> 515\u001b[0m cv_results \u001b[39m=\u001b[39m cross_validate(\n\u001b[0;32m    516\u001b[0m     estimator\u001b[39m=\u001b[39;49mestimator,\n\u001b[0;32m    517\u001b[0m     X\u001b[39m=\u001b[39;49mX,\n\u001b[0;32m    518\u001b[0m     y\u001b[39m=\u001b[39;49my,\n\u001b[0;32m    519\u001b[0m     groups\u001b[39m=\u001b[39;49mgroups,\n\u001b[0;32m    520\u001b[0m     scoring\u001b[39m=\u001b[39;49m{\u001b[39m\"\u001b[39;49m\u001b[39mscore\u001b[39;49m\u001b[39m\"\u001b[39;49m: scorer},\n\u001b[0;32m    521\u001b[0m     cv\u001b[39m=\u001b[39;49mcv,\n\u001b[0;32m    522\u001b[0m     n_jobs\u001b[39m=\u001b[39;49mn_jobs,\n\u001b[0;32m    523\u001b[0m     verbose\u001b[39m=\u001b[39;49mverbose,\n\u001b[0;32m    524\u001b[0m     fit_params\u001b[39m=\u001b[39;49mfit_params,\n\u001b[0;32m    525\u001b[0m     pre_dispatch\u001b[39m=\u001b[39;49mpre_dispatch,\n\u001b[0;32m    526\u001b[0m     error_score\u001b[39m=\u001b[39;49merror_score,\n\u001b[0;32m    527\u001b[0m )\n\u001b[0;32m    528\u001b[0m \u001b[39mreturn\u001b[39;00m cv_results[\u001b[39m\"\u001b[39m\u001b[39mtest_score\u001b[39m\u001b[39m\"\u001b[39m]\n",
      "File \u001b[1;32mc:\\Users\\hahme\\miniconda3\\envs\\fozan\\lib\\site-packages\\sklearn\\model_selection\\_validation.py:285\u001b[0m, in \u001b[0;36mcross_validate\u001b[1;34m(estimator, X, y, groups, scoring, cv, n_jobs, verbose, fit_params, pre_dispatch, return_train_score, return_estimator, error_score)\u001b[0m\n\u001b[0;32m    265\u001b[0m parallel \u001b[39m=\u001b[39m Parallel(n_jobs\u001b[39m=\u001b[39mn_jobs, verbose\u001b[39m=\u001b[39mverbose, pre_dispatch\u001b[39m=\u001b[39mpre_dispatch)\n\u001b[0;32m    266\u001b[0m results \u001b[39m=\u001b[39m parallel(\n\u001b[0;32m    267\u001b[0m     delayed(_fit_and_score)(\n\u001b[0;32m    268\u001b[0m         clone(estimator),\n\u001b[1;32m   (...)\u001b[0m\n\u001b[0;32m    282\u001b[0m     \u001b[39mfor\u001b[39;00m train, test \u001b[39min\u001b[39;00m cv\u001b[39m.\u001b[39msplit(X, y, groups)\n\u001b[0;32m    283\u001b[0m )\n\u001b[1;32m--> 285\u001b[0m _warn_or_raise_about_fit_failures(results, error_score)\n\u001b[0;32m    287\u001b[0m \u001b[39m# For callabe scoring, the return type is only know after calling. If the\u001b[39;00m\n\u001b[0;32m    288\u001b[0m \u001b[39m# return type is a dictionary, the error scores can now be inserted with\u001b[39;00m\n\u001b[0;32m    289\u001b[0m \u001b[39m# the correct key.\u001b[39;00m\n\u001b[0;32m    290\u001b[0m \u001b[39mif\u001b[39;00m callable(scoring):\n",
      "File \u001b[1;32mc:\\Users\\hahme\\miniconda3\\envs\\fozan\\lib\\site-packages\\sklearn\\model_selection\\_validation.py:367\u001b[0m, in \u001b[0;36m_warn_or_raise_about_fit_failures\u001b[1;34m(results, error_score)\u001b[0m\n\u001b[0;32m    360\u001b[0m \u001b[39mif\u001b[39;00m num_failed_fits \u001b[39m==\u001b[39m num_fits:\n\u001b[0;32m    361\u001b[0m     all_fits_failed_message \u001b[39m=\u001b[39m (\n\u001b[0;32m    362\u001b[0m         \u001b[39mf\u001b[39m\u001b[39m\"\u001b[39m\u001b[39m\\n\u001b[39;00m\u001b[39mAll the \u001b[39m\u001b[39m{\u001b[39;00mnum_fits\u001b[39m}\u001b[39;00m\u001b[39m fits failed.\u001b[39m\u001b[39m\\n\u001b[39;00m\u001b[39m\"\u001b[39m\n\u001b[0;32m    363\u001b[0m         \u001b[39m\"\u001b[39m\u001b[39mIt is very likely that your model is misconfigured.\u001b[39m\u001b[39m\\n\u001b[39;00m\u001b[39m\"\u001b[39m\n\u001b[0;32m    364\u001b[0m         \u001b[39m\"\u001b[39m\u001b[39mYou can try to debug the error by setting error_score=\u001b[39m\u001b[39m'\u001b[39m\u001b[39mraise\u001b[39m\u001b[39m'\u001b[39m\u001b[39m.\u001b[39m\u001b[39m\\n\u001b[39;00m\u001b[39m\\n\u001b[39;00m\u001b[39m\"\u001b[39m\n\u001b[0;32m    365\u001b[0m         \u001b[39mf\u001b[39m\u001b[39m\"\u001b[39m\u001b[39mBelow are more details about the failures:\u001b[39m\u001b[39m\\n\u001b[39;00m\u001b[39m{\u001b[39;00mfit_errors_summary\u001b[39m}\u001b[39;00m\u001b[39m\"\u001b[39m\n\u001b[0;32m    366\u001b[0m     )\n\u001b[1;32m--> 367\u001b[0m     \u001b[39mraise\u001b[39;00m \u001b[39mValueError\u001b[39;00m(all_fits_failed_message)\n\u001b[0;32m    369\u001b[0m \u001b[39melse\u001b[39;00m:\n\u001b[0;32m    370\u001b[0m     some_fits_failed_message \u001b[39m=\u001b[39m (\n\u001b[0;32m    371\u001b[0m         \u001b[39mf\u001b[39m\u001b[39m\"\u001b[39m\u001b[39m\\n\u001b[39;00m\u001b[39m{\u001b[39;00mnum_failed_fits\u001b[39m}\u001b[39;00m\u001b[39m fits failed out of a total of \u001b[39m\u001b[39m{\u001b[39;00mnum_fits\u001b[39m}\u001b[39;00m\u001b[39m.\u001b[39m\u001b[39m\\n\u001b[39;00m\u001b[39m\"\u001b[39m\n\u001b[0;32m    372\u001b[0m         \u001b[39m\"\u001b[39m\u001b[39mThe score on these train-test partitions for these parameters\u001b[39m\u001b[39m\"\u001b[39m\n\u001b[1;32m   (...)\u001b[0m\n\u001b[0;32m    376\u001b[0m         \u001b[39mf\u001b[39m\u001b[39m\"\u001b[39m\u001b[39mBelow are more details about the failures:\u001b[39m\u001b[39m\\n\u001b[39;00m\u001b[39m{\u001b[39;00mfit_errors_summary\u001b[39m}\u001b[39;00m\u001b[39m\"\u001b[39m\n\u001b[0;32m    377\u001b[0m     )\n",
      "\u001b[1;31mValueError\u001b[0m: \nAll the 5 fits failed.\nIt is very likely that your model is misconfigured.\nYou can try to debug the error by setting error_score='raise'.\n\nBelow are more details about the failures:\n--------------------------------------------------------------------------------\n1 fits failed with the following error:\nTraceback (most recent call last):\n  File \"c:\\Users\\hahme\\miniconda3\\envs\\fozan\\lib\\site-packages\\sklearn\\model_selection\\_validation.py\", line 686, in _fit_and_score\n    estimator.fit(X_train, y_train, **fit_params)\n  File \"c:\\Users\\hahme\\miniconda3\\envs\\fozan\\lib\\site-packages\\sklearn\\linear_model\\_stochastic_gradient.py\", line 1585, in fit\n    return self._fit(\n  File \"c:\\Users\\hahme\\miniconda3\\envs\\fozan\\lib\\site-packages\\sklearn\\linear_model\\_stochastic_gradient.py\", line 1530, in _fit\n    self._partial_fit(\n  File \"c:\\Users\\hahme\\miniconda3\\envs\\fozan\\lib\\site-packages\\sklearn\\linear_model\\_stochastic_gradient.py\", line 1435, in _partial_fit\n    X, y = self._validate_data(\n  File \"c:\\Users\\hahme\\miniconda3\\envs\\fozan\\lib\\site-packages\\sklearn\\base.py\", line 584, in _validate_data\n    X, y = check_X_y(X, y, **check_params)\n  File \"c:\\Users\\hahme\\miniconda3\\envs\\fozan\\lib\\site-packages\\sklearn\\utils\\validation.py\", line 1106, in check_X_y\n    X = check_array(\n  File \"c:\\Users\\hahme\\miniconda3\\envs\\fozan\\lib\\site-packages\\sklearn\\utils\\validation.py\", line 879, in check_array\n    array = _asarray_with_order(array, order=order, dtype=dtype, xp=xp)\n  File \"c:\\Users\\hahme\\miniconda3\\envs\\fozan\\lib\\site-packages\\sklearn\\utils\\_array_api.py\", line 185, in _asarray_with_order\n    array = numpy.asarray(array, order=order, dtype=dtype)\n  File \"c:\\Users\\hahme\\miniconda3\\envs\\fozan\\lib\\site-packages\\pandas\\core\\generic.py\", line 2070, in __array__\n    return np.asarray(self._values, dtype=dtype)\nValueError: could not convert string to float: '5f77fc27-9b40-4bfe-bc48-dcc3b7d9bb90.Kinect'\n\n--------------------------------------------------------------------------------\n4 fits failed with the following error:\nTraceback (most recent call last):\n  File \"c:\\Users\\hahme\\miniconda3\\envs\\fozan\\lib\\site-packages\\sklearn\\model_selection\\_validation.py\", line 686, in _fit_and_score\n    estimator.fit(X_train, y_train, **fit_params)\n  File \"c:\\Users\\hahme\\miniconda3\\envs\\fozan\\lib\\site-packages\\sklearn\\linear_model\\_stochastic_gradient.py\", line 1585, in fit\n    return self._fit(\n  File \"c:\\Users\\hahme\\miniconda3\\envs\\fozan\\lib\\site-packages\\sklearn\\linear_model\\_stochastic_gradient.py\", line 1530, in _fit\n    self._partial_fit(\n  File \"c:\\Users\\hahme\\miniconda3\\envs\\fozan\\lib\\site-packages\\sklearn\\linear_model\\_stochastic_gradient.py\", line 1435, in _partial_fit\n    X, y = self._validate_data(\n  File \"c:\\Users\\hahme\\miniconda3\\envs\\fozan\\lib\\site-packages\\sklearn\\base.py\", line 584, in _validate_data\n    X, y = check_X_y(X, y, **check_params)\n  File \"c:\\Users\\hahme\\miniconda3\\envs\\fozan\\lib\\site-packages\\sklearn\\utils\\validation.py\", line 1106, in check_X_y\n    X = check_array(\n  File \"c:\\Users\\hahme\\miniconda3\\envs\\fozan\\lib\\site-packages\\sklearn\\utils\\validation.py\", line 879, in check_array\n    array = _asarray_with_order(array, order=order, dtype=dtype, xp=xp)\n  File \"c:\\Users\\hahme\\miniconda3\\envs\\fozan\\lib\\site-packages\\sklearn\\utils\\_array_api.py\", line 185, in _asarray_with_order\n    array = numpy.asarray(array, order=order, dtype=dtype)\n  File \"c:\\Users\\hahme\\miniconda3\\envs\\fozan\\lib\\site-packages\\pandas\\core\\generic.py\", line 2070, in __array__\n    return np.asarray(self._values, dtype=dtype)\nValueError: could not convert string to float: '50450a2d-ccc1-4ca1-a503-5b10ff72b857.Kinect'\n"
     ]
    }
   ],
   "source": [
    "losses    = ['squared_error', 'huber', 'epsilon_insensitive', 'squared_epsilon_insensitive']\n",
    "penalties = ['l2', 'l1', 'elasticnet', None]\n",
    "\n",
    "loss, penalty = max(\n",
    "    itertools.product(losses,penalties), \n",
    "    key= lambda e: model_selection.cross_val_score(\n",
    "        linear_model.SGDRegressor(loss= e[0], penalty= e[1]), \n",
    "        trainX1, \n",
    "        trainY1\n",
    "    ).mean()\n",
    ")\n",
    "\n",
    "print(f'the maximum score is achieved with loss {loss} and penalty {penalty}')"
   ]
  },
  {
   "cell_type": "code",
   "execution_count": null,
   "metadata": {},
   "outputs": [],
   "source": [
    "model = linear_model.SGDRegressor(loss= 'epsilon_insensitive', penalty= 'l2').fit(trainX1,trainY1)\n",
    "model.fit(trainX1,trainY1)\n",
    "\n",
    "testP1 = model.predict(testX1)\n",
    "metrics.mean_squared_error(testY1,testP1)"
   ]
  },
  {
   "cell_type": "markdown",
   "metadata": {},
   "source": [
    "## champion classsification model"
   ]
  },
  {
   "cell_type": "code",
   "execution_count": null,
   "metadata": {},
   "outputs": [],
   "source": [
    "penalties = ['l2', 'l1', None]\n",
    "\n",
    "penalty = max(\n",
    "    penalties, \n",
    "    key= lambda e: model_selection.cross_val_score(\n",
    "        linear_model.LogisticRegression(penalty= e, solver= 'saga'), \n",
    "        trainX2, \n",
    "        trainY2\n",
    "    ).mean()\n",
    ")\n",
    "\n",
    "print(f'the maximum score is achieved with penalty {penalty}')"
   ]
  },
  {
   "cell_type": "code",
   "execution_count": null,
   "metadata": {},
   "outputs": [],
   "source": [
    "model = linear_model.LogisticRegression(penalty= 'l1', solver= 'saga')\n",
    "model.fit(trainX2,trainY2)\n",
    "\n",
    "testP2 = model.predict(testX2)\n",
    "metrics.accuracy_score(testY2,testP2)"
   ]
  },
  {
   "cell_type": "code",
   "execution_count": null,
   "metadata": {},
   "outputs": [],
   "source": []
  }
 ],
 "metadata": {
  "kernelspec": {
   "display_name": "fozan",
   "language": "python",
   "name": "python3"
  },
  "language_info": {
   "codemirror_mode": {
    "name": "ipython",
    "version": 3
   },
   "file_extension": ".py",
   "mimetype": "text/x-python",
   "name": "python",
   "nbconvert_exporter": "python",
   "pygments_lexer": "ipython3",
   "version": "3.10.9"
  },
  "orig_nbformat": 4
 },
 "nbformat": 4,
 "nbformat_minor": 2
}
