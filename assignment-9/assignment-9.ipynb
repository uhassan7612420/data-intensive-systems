{
 "cells": [
  {
   "cell_type": "code",
   "execution_count": 48,
   "metadata": {},
   "outputs": [],
   "source": [
    "import pathlib\n",
    "\n",
    "import numpy as np\n",
    "import pandas as pd\n",
    "import tensorflow as tf"
   ]
  },
  {
   "attachments": {},
   "cell_type": "markdown",
   "metadata": {},
   "source": [
    "# loading and preprocessing the data"
   ]
  },
  {
   "cell_type": "code",
   "execution_count": 121,
   "metadata": {},
   "outputs": [],
   "source": [
    "dataDirPath = pathlib.Path('kinect_good_preprocessed')\n",
    "\n",
    "ds = tf.data.Dataset.from_generator(\n",
    "    generator= lambda: (\n",
    "        pd.read_csv(f).values[:,1:]\n",
    "        for f in dataDirPath.iterdir()\n",
    "    ),\n",
    "    output_signature= tf.TensorSpec(shape= [None, 39], dtype= float)\n",
    ")\n",
    "ds = ds.batch(batch_size= 1)\n",
    "ds = ds.map(lambda a    : (a[:,:,0::3],a[:,:,1::3],a[:,:,2::3]))\n",
    "ds = ds.map(lambda x,y,z: (tf.concat([x,y], axis= -1), z ))\n",
    "ds = ds.shuffle(buffer_size= 200)\n",
    "\n",
    "trainDs = ds.take(150)\n",
    "testDs  = ds.skip(150)"
   ]
  },
  {
   "attachments": {},
   "cell_type": "markdown",
   "metadata": {},
   "source": [
    "# defining our model"
   ]
  },
  {
   "cell_type": "code",
   "execution_count": 149,
   "metadata": {},
   "outputs": [],
   "source": [
    "model = tf.keras.Sequential([\n",
    "    \n",
    "    tf.keras.Input(shape= [None,None,26]),\n",
    "\n",
    "    tf.keras.layers.Conv1D(filters= 20, kernel_size= 5, padding= 'same'),\n",
    "    tf.keras.layers.Conv1D(filters= 15, kernel_size= 5, padding= 'same'),\n",
    "    tf.keras.layers.Conv1D(filters= 13, kernel_size= 5, padding= 'same'),\n",
    "    # # tf.keras.layers.MaxPooling1D(pool_size= 5),\n",
    "\n",
    "    tf.keras.layers.Dense(units= 13, activation= tf.keras.activations.sigmoid)\n",
    "])\n",
    "model.compile(\n",
    "    optimizer= tf.keras.optimizers.Adam(),\n",
    "    loss     = tf.keras.losses.MeanSquaredError(),\n",
    ")"
   ]
  },
  {
   "attachments": {},
   "cell_type": "markdown",
   "metadata": {},
   "source": [
    "# training our model"
   ]
  },
  {
   "cell_type": "code",
   "execution_count": 151,
   "metadata": {},
   "outputs": [
    {
     "name": "stdout",
     "output_type": "stream",
     "text": [
      "Epoch 1/20\n",
      "150/150 [==============================] - 2s 2ms/step - loss: 0.0508\n",
      "Epoch 2/20\n",
      "150/150 [==============================] - 1s 2ms/step - loss: 0.0252\n",
      "Epoch 3/20\n",
      "150/150 [==============================] - 1s 2ms/step - loss: 0.0246\n",
      "Epoch 4/20\n",
      "150/150 [==============================] - 1s 2ms/step - loss: 0.0251\n",
      "Epoch 5/20\n",
      "150/150 [==============================] - 1s 2ms/step - loss: 0.0248\n",
      "Epoch 6/20\n",
      "150/150 [==============================] - 1s 2ms/step - loss: 0.0252\n",
      "Epoch 7/20\n",
      "150/150 [==============================] - 1s 2ms/step - loss: 0.0242\n",
      "Epoch 8/20\n",
      "150/150 [==============================] - 1s 2ms/step - loss: 0.0247\n",
      "Epoch 9/20\n",
      "150/150 [==============================] - 1s 2ms/step - loss: 0.0249\n",
      "Epoch 10/20\n",
      "150/150 [==============================] - 1s 2ms/step - loss: 0.0239\n",
      "Epoch 11/20\n",
      "150/150 [==============================] - 1s 2ms/step - loss: 0.0246\n",
      "Epoch 12/20\n",
      "150/150 [==============================] - 1s 2ms/step - loss: 0.0243\n",
      "Epoch 13/20\n",
      "150/150 [==============================] - 1s 2ms/step - loss: 0.0236\n",
      "Epoch 14/20\n",
      "150/150 [==============================] - 1s 2ms/step - loss: 0.0241\n",
      "Epoch 15/20\n",
      "150/150 [==============================] - 1s 2ms/step - loss: 0.0247\n",
      "Epoch 16/20\n",
      "150/150 [==============================] - 1s 2ms/step - loss: 0.0246\n",
      "Epoch 17/20\n",
      "150/150 [==============================] - 1s 2ms/step - loss: 0.0245\n",
      "Epoch 18/20\n",
      "150/150 [==============================] - 1s 2ms/step - loss: 0.0241\n",
      "Epoch 19/20\n",
      "150/150 [==============================] - 1s 2ms/step - loss: 0.0248\n",
      "Epoch 20/20\n",
      "150/150 [==============================] - 1s 2ms/step - loss: 0.0246\n"
     ]
    },
    {
     "data": {
      "text/plain": [
       "<keras.callbacks.History at 0x2c114152050>"
      ]
     },
     "execution_count": 151,
     "metadata": {},
     "output_type": "execute_result"
    }
   ],
   "source": [
    "model.fit(trainDs, epochs= 20)"
   ]
  },
  {
   "attachments": {},
   "cell_type": "markdown",
   "metadata": {},
   "source": [
    "# testing our model"
   ]
  },
  {
   "cell_type": "code",
   "execution_count": 152,
   "metadata": {},
   "outputs": [
    {
     "name": "stdout",
     "output_type": "stream",
     "text": [
      "29/29 [==============================] - 1s 2ms/step - loss: 0.0239\n"
     ]
    },
    {
     "data": {
      "text/plain": [
       "0.023900873959064484"
      ]
     },
     "execution_count": 152,
     "metadata": {},
     "output_type": "execute_result"
    }
   ],
   "source": [
    "model.evaluate(testDs)"
   ]
  },
  {
   "cell_type": "code",
   "execution_count": null,
   "metadata": {},
   "outputs": [],
   "source": []
  }
 ],
 "metadata": {
  "kernelspec": {
   "display_name": "DIS",
   "language": "python",
   "name": "python3"
  },
  "language_info": {
   "codemirror_mode": {
    "name": "ipython",
    "version": 3
   },
   "file_extension": ".py",
   "mimetype": "text/x-python",
   "name": "python",
   "nbconvert_exporter": "python",
   "pygments_lexer": "ipython3",
   "version": "3.11.0"
  },
  "orig_nbformat": 4
 },
 "nbformat": 4,
 "nbformat_minor": 2
}
